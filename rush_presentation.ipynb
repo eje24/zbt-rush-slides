{
  "cells": [
    {
      "cell_type": "markdown",
      "metadata": {
        "id": "JGUveR2D6lSN"
      },
      "source": [
        "# Before running\n",
        "- if an older version of rush_responses.xlsx exists in the Rush 2022 folder, delete it\n",
        "- download rush_responses.gsheet as the xlsx file rush_responses.xlsx and put it in the Rush 2022 folder"
      ]
    },
    {
      "cell_type": "code",
      "execution_count": 1,
      "metadata": {
        "id": "LcsLY0uOGB_T"
      },
      "outputs": [],
      "source": [
        "import os\n",
        "import pandas as pd\n",
        "import re\n",
        "from datetime import datetime"
      ]
    },
    {
      "cell_type": "code",
      "execution_count": 5,
      "metadata": {
        "colab": {
          "base_uri": "https://localhost:8080/"
        },
        "id": "agp3CCw1KzuY",
        "outputId": "216f73af-c819-4346-aa70-908d879af9a9"
      },
      "outputs": [],
      "source": [
        "base_path = os.getcwd()\n",
        "rushee_data_path = os.path.join(base_path, 'rush_responses.xlsx')\n",
        "image_dir = os.path.join(base_path, 'rushee_images')\n",
        "presentation_path = os.path.join(base_path, 'presentation.html')"
      ]
    },
    {
      "cell_type": "code",
      "execution_count": 6,
      "metadata": {
        "id": "8f2lTueKICNa"
      },
      "outputs": [],
      "source": [
        "def get_rushee_info_dict(data_path):\n",
        "  contacts = []\n",
        "  data_df = pd.read_excel(data_path).fillna('').sort_values(by=['Rushee Name'])\n",
        "  contacts = list(dict(contact_row[1][1:]) for contact_row in data_df.iterrows())\n",
        "  rushees = dict()\n",
        "  for contact in contacts:\n",
        "    rushee_name = contact['Rushee Name']\n",
        "    rusher_name = contact['Your Name']\n",
        "    rusher_excitement = (rusher_name, contact['How excited are you about them?'])\n",
        "    comment = contact['Rushee Information']\n",
        "    if rushee_name not in rushees:\n",
        "      rushees[rushee_name] = {\n",
        "          'rusher excitement': [],\n",
        "          'comments': []\n",
        "      }\n",
        "    rushee_dict = rushees[rushee_name]\n",
        "    rushee_dict['rusher excitement'].append(rusher_excitement)\n",
        "    rushee_dict['primary'] = contact['Primary']\n",
        "    rushee_dict['secondary'] = contact['Secondary']\n",
        "    rushee_dict['bucket'] = contact['Bucket']\n",
        "    rushee_dict['cross rush'] = contact['Cross-Rush']\n",
        "    rushee_dict['closers'] = contact['Closers']\n",
        "    rushee_dict['year'] = contact['Year']\n",
        "    if comment:\n",
        "      rushees[rushee_name]['comments'].append(comment)\n",
        "  return rushees"
      ]
    },
    {
      "cell_type": "code",
      "execution_count": 11,
      "metadata": {
        "id": "JXw2JX4y51su"
      },
      "outputs": [],
      "source": [
        "def addSlide(primary, secondary, rushee, comments, photoURL, closers = \"\", class_year = 2025, bucket = None, cross_rush = None):\n",
        "    \"\"\"Returns an html markup of the rushee slide\n",
        "    \"\"\"    \n",
        "    comments_string = ''\n",
        "    for comment in comments:\n",
        "      comments_string += \"<li>\" + comment + \"</li>\"\n",
        "\n",
        "    if not bucket:\n",
        "      bucket = 'N/A'\n",
        "\n",
        "    if not cross_rush:\n",
        "      cross_rush = '???'\n",
        "        \n",
        "    return (\"\"\"\n",
        "              <section>\n",
        "                <div id='slide'>\n",
        "                    <div id='name'>\n",
        "                        <h1>{rushee}</h1>\n",
        "                    </div>\n",
        "                    <div class='flex-container'>\n",
        "                        <div id='profile'>\n",
        "                            <div id='pic'>\n",
        "                                <img src=\"{photoURL}\" />\n",
        "                            </div>\n",
        "                            <div id='info'>\n",
        "                                <table>\n",
        "                                    <tr>\n",
        "                                        <td>Primary/Secondary</td>\n",
        "                                        <td>{primary}/{secondary}</td>\n",
        "                                    </tr>\n",
        "                                    <tr>\n",
        "                                        <td>Closers</td>\n",
        "                                        <td>{closers}</td>\n",
        "                                    </tr>\n",
        "                                    <tr>\n",
        "                                      <td> Class Year </td>\n",
        "                                      <td> {class_year} </td>\n",
        "                                    </tr>\n",
        "                                    <tr>\n",
        "                                        <td>Bucket</td>\n",
        "                                        <td>{bucket}</td>\n",
        "                                    </tr>\n",
        "                                    <tr>\n",
        "                                        <td> x-rush</td>\n",
        "                                        <td> {cross_rush} </td>\n",
        "                                    </tr>\n",
        "                                </table>\n",
        "                            </div>\n",
        "                        </div>\n",
        "                        <div id='about'>\n",
        "                            <div id='about1'>\n",
        "                            <ul>\n",
        "                                {comments}\n",
        "                            </ul>\n",
        "                            </div>\n",
        "                            <div id='about2'>\n",
        "                            <ul>\n",
        "                            </ul>\n",
        "                            </div>\n",
        "                        </div>\n",
        "                    </div>\n",
        "                </div>\n",
        "            </section>\n",
        "        \"\"\".format(photoURL = photoURL,\n",
        "                    primary = primary,\n",
        "                    secondary = secondary,\n",
        "                    rushee = rushee,\n",
        "                    bucket = bucket,\n",
        "                    comments = comments_string,\n",
        "                    cross_rush = cross_rush,\n",
        "                    class_year = class_year,\n",
        "                    closers = closers\n",
        "                    )\n",
        "    )\n",
        "\n",
        "default_image_path = os.path.join(image_dir, 'default.jpg')\n",
        "\n",
        "def get_image_path(rushee):\n",
        "    rushee_photo_url = os.path.join(image_dir, rushee.rstrip().lower())\n",
        "    if os.path.exists(rushee_photo_url + '.jpg'):\n",
        "      return rushee_photo_url + '.jpg'\n",
        "    elif os.path.exists(rushee_photo_url + '.png'):\n",
        "      return rushee_photo_url + '.png'\n",
        "    else:\n",
        "      return default_image_path\n",
        "  \n",
        "def write_to_slides(rushee_info_dict, presentation_path):\n",
        "  print(f'Writing to: {presentation_path}')\n",
        "  with open(presentation_path, 'w', encoding=\"utf-8\") as f:\n",
        "      f.write(r\"\"\"\n",
        "          <html>\n",
        "              <head>\n",
        "                  <link rel=\"stylesheet\" href=\"assets/css/reveal.css\">\n",
        "                  <link rel=\"stylesheet\" href=\"assets/css/theme/black.css\">\n",
        "                  <link rel=\"stylesheet\" href=\"assets/css/custom.css\">\n",
        "              </head>\n",
        "              <body>\n",
        "                  <div class=\"reveal\">\n",
        "                      <div class=\"slides\">\n",
        "      \"\"\")\n",
        "      for rushee_name, rushee_info in rushee_info_dict.items(): \n",
        "          rushee_slide = addSlide(\n",
        "              primary = rushee_info['primary'], \n",
        "              secondary = rushee_info['secondary'], \n",
        "              rushee = rushee_name,   \n",
        "              comments = rushee_info['comments'], \n",
        "              class_year = rushee_info['year'], \n",
        "              bucket = rushee_info['bucket'], \n",
        "              photoURL = get_image_path(rushee_name), \n",
        "              closers = rushee_info['closers']\n",
        "            )\n",
        "          # write body contents to file\n",
        "          f.write(rushee_slide)\n",
        "      # write footer to html file\n",
        "      f.write(r\"\"\"\n",
        "                      </div>\n",
        "                  </div>\n",
        "                  <script src=\"assets/js/reveal.js\"></script>\n",
        "                  <script>\n",
        "                      Reveal.initialize({\n",
        "                          controls: true,\n",
        "                          progress: true,\n",
        "                          history: true,\n",
        "                          center: true,\n",
        "                          slideNumber: true,\n",
        "                          transition: 'slide' // none/fade/slide/convex/concave/zoom\n",
        "                          });\n",
        "                  </script>\n",
        "              <body>\n",
        "          </html>\n",
        "      \"\"\") \n"
      ]
    },
    {
      "cell_type": "code",
      "execution_count": 9,
      "metadata": {
        "id": "QiW-5exCOsnC"
      },
      "outputs": [],
      "source": [
        "def generate_presentation(data_path = rushee_data_path, presentation_path = presentation_path):\n",
        "  rushee_info_dict = get_rushee_info_dict(data_path = data_path)\n",
        "  write_to_slides(rushee_info_dict, presentation_path = presentation_path)"
      ]
    },
    {
      "cell_type": "code",
      "execution_count": 12,
      "metadata": {
        "colab": {
          "base_uri": "https://localhost:8080/"
        },
        "id": "pqfPmwzSPOEm",
        "outputId": "31e50e41-c9a9-4fdb-dec7-bb4d99a4b7c5"
      },
      "outputs": [
        {
          "name": "stdout",
          "output_type": "stream",
          "text": [
            "Writing to: /Users/ezraerives/Dropbox (Personal)/zbt-rush-slides/presentation.html\n"
          ]
        }
      ],
      "source": [
        "generate_presentation()"
      ]
    }
  ],
  "metadata": {
    "colab": {
      "collapsed_sections": [],
      "provenance": []
    },
    "kernelspec": {
      "display_name": "Python 3.9.1 64-bit ('3.9.1')",
      "language": "python",
      "name": "python3"
    },
    "language_info": {
      "codemirror_mode": {
        "name": "ipython",
        "version": 3
      },
      "file_extension": ".py",
      "mimetype": "text/x-python",
      "name": "python",
      "nbconvert_exporter": "python",
      "pygments_lexer": "ipython3",
      "version": "3.9.1"
    },
    "vscode": {
      "interpreter": {
        "hash": "9483ce9de4bfe1db59907a224dfdc4a4a0e959ca3b0744a2317b0c30d091f5c0"
      }
    }
  },
  "nbformat": 4,
  "nbformat_minor": 0
}
